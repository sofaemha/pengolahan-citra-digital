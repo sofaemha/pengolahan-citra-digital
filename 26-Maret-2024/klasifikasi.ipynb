{
  "nbformat": 4,
  "nbformat_minor": 0,
  "metadata": {
    "colab": {
      "provenance": [],
      "authorship_tag": "ABX9TyOKto6wZ3b2KA6FmNP78eCA",
      "include_colab_link": true
    },
    "kernelspec": {
      "name": "python3",
      "display_name": "Python 3"
    },
    "language_info": {
      "name": "python"
    }
  },
  "cells": [
    {
      "cell_type": "markdown",
      "metadata": {
        "id": "view-in-github",
        "colab_type": "text"
      },
      "source": [
        "<a href=\"https://colab.research.google.com/github/sofaemha/pengolahan-citra-digital/blob/main/26-Maret-2024/klasifikasi.ipynb\" target=\"_parent\"><img src=\"https://colab.research.google.com/assets/colab-badge.svg\" alt=\"Open In Colab\"/></a>"
      ]
    },
    {
      "cell_type": "markdown",
      "source": [
        "# Tugas PCD: Klasifkasi Gambar\n",
        "\n",
        "## Persiapan dan Konfigurasi\n",
        "\n",
        "Dengan dibuatnya tugas ini bertujuan untuk membangun sebuah model neural network yang dapat mengklasifikasikan gambar angka, seperti nol dan delapan.\n",
        "\n",
        "Tugas ini menggunakan fitur [Keras](https://www.tensorflow.org/guide/keras), sebuah API tingkat tinggi untuk membangun dan melakukan training model di TensorFlow."
      ],
      "metadata": {
        "id": "1L-xs7sKexGW"
      }
    },
    {
      "cell_type": "code",
      "execution_count": null,
      "metadata": {
        "id": "kRQL6WN3oj1M"
      },
      "outputs": [],
      "source": [
        "try:\n",
        "  # Inisialisasi varsi dari TensorFlow\n",
        "  %tensorflow_version 2.x\n",
        "except Exception:\n",
        "  pass"
      ]
    }
  ]
}